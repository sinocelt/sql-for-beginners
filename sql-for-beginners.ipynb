{
 "cells": [
  {
   "cell_type": "markdown",
   "id": "04999365-1d6e-4128-b5be-33105371add3",
   "metadata": {},
   "source": [
    "# SQL for Beginners 💻"
   ]
  },
  {
   "cell_type": "markdown",
   "id": "e3c443b0-f57c-4bfc-9d61-3f6efec35e45",
   "metadata": {},
   "source": [
    "By Justin Barry <br/>\n",
    "https://watsontechworld.com"
   ]
  },
  {
   "cell_type": "markdown",
   "id": "842b5d79-c6de-4e2f-9787-31cf3d6af1b8",
   "metadata": {},
   "source": [
    "Welcome to SQL for Beginners. SQL is a wonderful language in my opinion. It is one of the biggest languages in the world, and is a language designed specifically for tabular databases; that is, databases that use tables, like spreadsheets do."
   ]
  },
  {
   "cell_type": "code",
   "execution_count": null,
   "id": "187b603a-2f7c-479b-8e22-a0e99857edcb",
   "metadata": {},
   "outputs": [],
   "source": []
  },
  {
   "cell_type": "code",
   "execution_count": 1,
   "id": "7ca6abe2-8bf5-4af9-ac0b-7372ed6a6117",
   "metadata": {},
   "outputs": [],
   "source": [
    "# Note I might use this book as the basis for a course"
   ]
  },
  {
   "cell_type": "code",
   "execution_count": null,
   "id": "ace76ef2-6e30-43ba-9696-bad2c3695391",
   "metadata": {},
   "outputs": [],
   "source": []
  },
  {
   "cell_type": "markdown",
   "id": "3d2eab38-4599-434a-a02c-a0b065a13b18",
   "metadata": {},
   "source": [
    "<strong>Note about different database systems:</strong><br/>\n",
    "Different database systems such as MySQL / MariaDB, PostgreSQL, SQLite have some subtle differences in how they are implemented. I will try to show you SQL code that will work in all of the systems. This book will use MySQL / MariaDB, but with a little editing, you should be able to use it in PostgreSQL, SQLite, or almost any other database system that uses SQL"
   ]
  },
  {
   "cell_type": "code",
   "execution_count": null,
   "id": "f7e68151-3e14-46ba-be64-08c1d42eb74f",
   "metadata": {},
   "outputs": [],
   "source": []
  },
  {
   "cell_type": "code",
   "execution_count": null,
   "id": "32e4408f-25f2-4d47-8886-f26868161615",
   "metadata": {},
   "outputs": [],
   "source": []
  },
  {
   "cell_type": "markdown",
   "id": "3c1f05c6-4ff2-4435-bf45-6c6df8bc104e",
   "metadata": {},
   "source": [
    "# Why even learn SQL? Why not just use Microsoft Excel, Google Sheets, LibreOffice Calc, or some other spreadsheet software?"
   ]
  },
  {
   "cell_type": "markdown",
   "id": "cf03499b-d414-4843-bfb1-38014985434f",
   "metadata": {},
   "source": [
    "This is a good question. In a nutshell, here are some top benefits of using SQL instead of a spreadsheet:\n",
    "* SQL scales far better for large datasets. For example, you can go from dozens of rows to millions of rows without needing to change much\n",
    "* SQL offers great optimizations\n",
    "* SQL can be used with other programming languages such as Python, JavaScript, and almost any other modern programming language\n",
    "* SQL allows you to build modern apps and websites\n",
    "* Learning SQL will allow you to learn backend web development and full stack web development"
   ]
  },
  {
   "cell_type": "code",
   "execution_count": null,
   "id": "19594913-f216-4797-9c59-d5c8265797e5",
   "metadata": {},
   "outputs": [],
   "source": []
  },
  {
   "cell_type": "markdown",
   "id": "0c80cb7f-6742-4906-a539-6f3de95d259c",
   "metadata": {},
   "source": [
    "# What are some top softwares that use SQL?"
   ]
  },
  {
   "cell_type": "markdown",
   "id": "33a72874-58a7-4a5e-b659-01e58a3b4737",
   "metadata": {},
   "source": [
    "* WordPress (which uses MySQL by default)"
   ]
  },
  {
   "cell_type": "code",
   "execution_count": null,
   "id": "680f8859-38c9-439a-9278-f138e6191f92",
   "metadata": {},
   "outputs": [],
   "source": []
  },
  {
   "attachments": {},
   "cell_type": "markdown",
   "id": "4706cf06-a48c-4d9e-96c3-231f168fd50d",
   "metadata": {},
   "source": [
    "# Database definition?????\n",
    "\n",
    "## Get definition"
   ]
  },
  {
   "attachments": {},
   "cell_type": "markdown",
   "id": "11be18f3-0449-4acd-a605-f4e70f1b9948",
   "metadata": {},
   "source": [
    "This book is not meant to be a complicated computer science book on the theory of databases. In a nutshell, a database is just a collection of data. You could even consider a library with many books as a database. A database is a collection of information. But specifically with a computer, ?????????"
   ]
  },
  {
   "cell_type": "code",
   "execution_count": null,
   "id": "2b74ecea-7ff5-452c-84c7-178c7adf3c54",
   "metadata": {},
   "outputs": [],
   "source": []
  },
  {
   "cell_type": "code",
   "execution_count": null,
   "id": "382dab3a-6dd6-435a-8e71-d3c69e6a1066",
   "metadata": {},
   "outputs": [],
   "source": []
  },
  {
   "cell_type": "markdown",
   "id": "a1348e16-0ab8-46e0-a3f5-90933e38ac6b",
   "metadata": {},
   "source": [
    "# SQL vs Spreadsheets. Which to use?"
   ]
  },
  {
   "cell_type": "markdown",
   "id": "27d62109-7179-453d-af09-27ee7142554b",
   "metadata": {},
   "source": [
    "There is no cut and dried answer. But generally, spreadsheets are good if you have a few hundred to a few thousand rows, based on my own experience. But once you get past 100,000 rows, SQL generally becomes a far better use case"
   ]
  },
  {
   "attachments": {},
   "cell_type": "markdown",
   "id": "41b2b590-1ee3-4654-a44f-88d13bec1af4",
   "metadata": {},
   "source": [
    "# Spreadsheet benefits\n",
    "* probably easier to use for very easy tracking, such as tracking exercise or spending for a small number of rows\n",
    "* Spreadsheet softwares may have a lower learning curve\n"
   ]
  },
  {
   "cell_type": "markdown",
   "id": "00f441e6-5a9f-4ff7-a224-06b3d191cad8",
   "metadata": {},
   "source": [
    "# Data is data. How you should view or use it depends on the situation. You can sometimes interchangably go between SQL databases and spreadsheets"
   ]
  },
  {
   "cell_type": "markdown",
   "id": "869f289b-8691-4641-a38e-5393e13193f2",
   "metadata": {},
   "source": [
    "And actually, sometimes you'll use both. I often will import data from a CSV file and then insert that data into a database. Or I do a search for something in a database, and then output that to a CSV file."
   ]
  },
  {
   "cell_type": "code",
   "execution_count": null,
   "id": "976b5cde-4d56-4e62-93aa-ac8216dd3bae",
   "metadata": {},
   "outputs": [],
   "source": []
  },
  {
   "cell_type": "markdown",
   "id": "7e5426f0-afb1-4272-a407-fd1747427da0",
   "metadata": {},
   "source": [
    "# SQL benefits\n",
    "* Far more powerful than spreadsheet softwares\n",
    "* Scales far better\n",
    "* Can be more powerful\n",
    "* Can be far faster than a spreadsheet\n",
    "* Allows you to interact with a database interactively"
   ]
  },
  {
   "cell_type": "code",
   "execution_count": null,
   "id": "6459b384-bfb7-44a1-badd-72bc046588ce",
   "metadata": {},
   "outputs": [],
   "source": []
  },
  {
   "cell_type": "markdown",
   "id": "773bfe02-b41e-47a1-9ae4-2dda6062ced4",
   "metadata": {},
   "source": [
    "# Setting Up MySQL / MariaDB"
   ]
  },
  {
   "cell_type": "markdown",
   "id": "6bb547c0-22b7-4fc5-a0a8-61044b2822a9",
   "metadata": {},
   "source": [
    "In Ubuntu, you can install mysql or mariadb along with the necessary server with the following: (just first decide if you will install mysql or mariadb. If you can't decide, you can just go with mysql-server"
   ]
  },
  {
   "cell_type": "markdown",
   "id": "04317182-1cfd-4da9-af27-a07956c895ee",
   "metadata": {},
   "source": [
    "`sudo apt install mysql-server`<br/>\n",
    "`sudo apt install mariadb-server`"
   ]
  },
  {
   "cell_type": "code",
   "execution_count": null,
   "id": "d0cd7ead-5fe6-4d62-ae4d-ee0d5a97b1b4",
   "metadata": {},
   "outputs": [],
   "source": []
  },
  {
   "cell_type": "markdown",
   "id": "8b1e9f08-dfce-4d6e-9c0d-a5a1354f9059",
   "metadata": {},
   "source": [
    "# How To Import A MySQL Database"
   ]
  },
  {
   "cell_type": "markdown",
   "id": "cc80a463-8ab2-456b-b34c-51d03541f501",
   "metadata": {},
   "source": [
    "Taken from my article at\n",
    "https://linuxwebdevelopment.com/import-mysql-database/"
   ]
  },
  {
   "cell_type": "markdown",
   "id": "c812afbe-1afe-45da-941c-0d7a66e4c6f0",
   "metadata": {},
   "source": [
    "Choose the name you want for the databse, for example you might want the name `exampledotcomdatabase`"
   ]
  },
  {
   "cell_type": "markdown",
   "id": "0434412c-8ca1-4789-a150-7ca57c6e14b5",
   "metadata": {},
   "source": [
    "`CREATE DATABASE exampledotcomdatabase CHARACTER SET utf8;`"
   ]
  },
  {
   "cell_type": "code",
   "execution_count": null,
   "id": "e2214533-3cb5-4bce-86a2-cb471149409b",
   "metadata": {},
   "outputs": [],
   "source": []
  },
  {
   "cell_type": "markdown",
   "id": "52be50b8-e4f8-483e-81bf-cde4d2b49a59",
   "metadata": {},
   "source": [
    "# Importing a MySQL Database"
   ]
  },
  {
   "cell_type": "markdown",
   "id": "65e07de6-d8c7-4f05-abb5-009310a1ab15",
   "metadata": {},
   "source": [
    "Taken from my article at: <br/>\n",
    "https://linuxwebdevelopment.com/import-mysql-database/"
   ]
  },
  {
   "cell_type": "markdown",
   "id": "4f2391fb-b912-495e-af30-ecef995be352",
   "metadata": {},
   "source": [
    "Make sure you first have a username (for example `sampleuser`) and you have already defined a database, for example `sampledatabase`"
   ]
  },
  {
   "cell_type": "markdown",
   "id": "c40bb834-922c-47fb-9a34-f41a30d2a9f9",
   "metadata": {},
   "source": [
    "`mysql -u sampleuser -p sampledatabase < databasebackup.sql`"
   ]
  },
  {
   "cell_type": "code",
   "execution_count": null,
   "id": "f38f9925-be93-4f92-9660-5ba1c8186ab9",
   "metadata": {},
   "outputs": [],
   "source": []
  },
  {
   "cell_type": "markdown",
   "id": "e4785363-6d43-4b7a-aa41-30bfa11a5625",
   "metadata": {},
   "source": [
    "# How To Create A New Username In MySQL"
   ]
  },
  {
   "cell_type": "markdown",
   "id": "eb48a6dc-a188-4685-9778-bbc734b47a0c",
   "metadata": {},
   "source": [
    "Taken from my article at: <br/>\n",
    "https://linuxwebdevelopment.com/how-to-create-a-new-username-in-mysql/"
   ]
  },
  {
   "cell_type": "code",
   "execution_count": null,
   "id": "caae93f3-eea8-4842-a3ab-6e1d9abd7ccd",
   "metadata": {},
   "outputs": [],
   "source": []
  },
  {
   "cell_type": "markdown",
   "id": "95097e91-86da-4160-8b80-d7456a0b7a7c",
   "metadata": {},
   "source": [
    "First you need to have a database already set up for which to give the username permissions to. For example, you might have a database named `exampledotcomdatabase`"
   ]
  },
  {
   "cell_type": "markdown",
   "id": "3dedd4ef-656d-4a3b-a521-68f9ae6d6f60",
   "metadata": {},
   "source": [
    "Then you will need to choose a username, for example `exampleusername` and you will need to give it a password, which is in the part below of IDENTIFIED BY 'abcdefg12345'. So you could have a password of `abcdefg12345` (probably not a good password)"
   ]
  },
  {
   "cell_type": "markdown",
   "id": "ffefc3b7-4035-449d-ab60-eea9f7454d10",
   "metadata": {},
   "source": [
    "```\n",
    "CREATE USER 'exampleusername'@'localhost' IDENTIFIED BY 'abcdefg12345';\n",
    "GRANT ALL PRIVILEGES ON exampledotcomdatabase . * TO 'exampleusername'@'localhost';\n",
    "FLUSH PRIVILEGES;\n",
    "exit;\n",
    "```"
   ]
  },
  {
   "cell_type": "code",
   "execution_count": null,
   "id": "97652485-7dc5-4f0f-8cb8-3e4bb32de4c1",
   "metadata": {},
   "outputs": [],
   "source": []
  },
  {
   "cell_type": "markdown",
   "id": "0c2f187b-084e-4af4-893f-019d84fad74f",
   "metadata": {},
   "source": [
    "# Selecting or retrieving data from an SQL database with SELECT"
   ]
  },
  {
   "cell_type": "markdown",
   "id": "9f3230bb-fbd8-40fd-8d6b-3eb1fee43b6d",
   "metadata": {},
   "source": [
    "Selecting or retrieving data is done with the `SELECT` keyword"
   ]
  },
  {
   "cell_type": "markdown",
   "id": "6076c64a-4bb4-49ef-8562-363bda6efae8",
   "metadata": {},
   "source": [
    "Watch my video on SQL SELECT below<br/>\n",
    "SQL SELECT Statement Tutorial<br/>\n",
    "https://youtu.be/iN8JMOtTG5E"
   ]
  },
  {
   "cell_type": "markdown",
   "id": "aa8f0b98-9030-440a-98ee-9cdb64ae6dd9",
   "metadata": {},
   "source": [
    "<strong>-- 1. Show all data from salary table</strong><br/>\n",
    "`select * from salary;`\n",
    "\n",
    "<strong>-- 2. select name, gender, career, age, yearly_salary from salary table and sort by age</strong><br/>\n",
    "`SELECT name, gender, career, age, yearly_salary FROM salary ORDER BY age;`\n",
    "\n",
    "<strong>-- 3. Do similarly, but instead sort by yearly salary ascending</strong><br/>\n",
    "`SELECT name, gender, career, age, yearly_salary FROM salary ORDER BY yearly_salary;`\n",
    "\n",
    "<strong>-- 4. Now do similarly, but instead sort by yearly salary descending</strong><br/>\n",
    "`SELECT name, gender, career, age, yearly_salary FROM salary ORDER BY yearly_salary DESC;`\n",
    "\n",
    "<strong>-- 5. Now do similarly, but instead sort by gender ascending and then yearly_salary descending</strong><br/>\n",
    "`SELECT name, gender, career, age, yearly_salary FROM salary ORDER BY gender, yearly_salary DESC;`"
   ]
  },
  {
   "cell_type": "code",
   "execution_count": null,
   "id": "da8e163b-1d34-4463-bacf-d8055f785526",
   "metadata": {},
   "outputs": [],
   "source": []
  },
  {
   "cell_type": "markdown",
   "id": "178f4d23-1c63-4efe-8774-19c446944dcf",
   "metadata": {},
   "source": [
    "<strong>-- 1. Show all data from salary table</strong><br/>\n",
    "`select * from salary;`"
   ]
  },
  {
   "cell_type": "markdown",
   "id": "af4d2a6c-0b50-4215-81f9-8738beaac6fa",
   "metadata": {},
   "source": [
    "Might give you output like the following:"
   ]
  },
  {
   "cell_type": "markdown",
   "id": "080e5f5a-77a7-4106-8ee3-8cbb46aac490",
   "metadata": {},
   "source": [
    "+--------+------------------------------+---------------+--------+------+-----------+<br/>\n",
    "| name   | career                       | yearly_salary | gender | age  | age_group |<br/>\n",
    "+--------+------------------------------+---------------+--------+------+-----------+<br/>\n",
    "| Brad   | doctor                       |        150000 | m      |   35 | 30-39     |<br/>\n",
    "| Sana   | idol / singer                |       1450000 | f      |   28 | 20-29     |<br/>\n",
    "| Luke   | data analyst                 |         80000 | m      |   39 | 30-39     |<br/>\n",
    "| Tony   | teacher                      |         45000 | m      |   42 | 40-49     |<br/>\n",
    "| Mike   | account clerk                |         44630 | m      |   25 | 20-29     |<br/>\n",
    "| Leia   | chemical engineer            |        112000 | f      |   45 | 40-49     |<br/>\n",
    "| Nick   | CEO                          |        250000 | m      |   57 | 50-59     |<br/>\n",
    "| Cheryl | software engineering intern  |         68000 | f      |   23 | 20-29     |<br/>\n",
    "| Wayne  | author                       |         75000 | m      |   75 | 70-79     |<br/>\n",
    "| Julie  | author                       |         80000 | f      |   40 | 40-49     |<br/>\n",
    "| John   | pizza delivery driver        |         30000 | m      |   37 | 30-39     |<br/>\n",
    "| Jean   | waitress                     |         30000 | f      |   27 | 20-29     |<br/>\n",
    "| Sonja  | professor                    |        150000 | f      |   45 | 40-49     |<br/>\n",
    "| Sarah  | Uber driver                  |         40000 | f      |   38 | 30-39     |<br/>\n",
    "| Mary   | lawyer                       |        300000 | f      |   33 | 30-39     |<br/>\n",
    "| Olivia | day trader                   |         80000 | f      |   65 | 60-69     |<br/>\n",
    "| Pilar  | entrepreneur / self-employed |         55000 | m      |   47 | 40-49     |<br/>\n",
    "+--------+------------------------------+---------------+--------+------+-----------+<br/>\n",
    "17 rows in set (0.01 sec)<br/>"
   ]
  },
  {
   "cell_type": "markdown",
   "id": "0cbcec45-deb2-4c8b-96f8-6fa1105226f6",
   "metadata": {},
   "source": [
    "<strong>-- 2. select name, gender, career, age, yearly_salary from salary table and sort by age</strong><br/>\n",
    "`SELECT name, gender, career, age, yearly_salary FROM salary ORDER BY age;`"
   ]
  },
  {
   "cell_type": "markdown",
   "id": "34b11eac-0ff3-49a8-b9bb-4c4254b13ecf",
   "metadata": {},
   "source": [
    "Might give you output like the following:"
   ]
  },
  {
   "cell_type": "markdown",
   "id": "de80371f-8081-47bb-bff6-53802d443cfd",
   "metadata": {},
   "source": [
    "```\n",
    "+--------+--------+------------------------------+------+---------------+\n",
    "| name   | gender | career                       | age  | yearly_salary |\n",
    "+--------+--------+------------------------------+------+---------------+\n",
    "| Cheryl | f      | software engineering intern  |   23 |         68000 |\n",
    "| Mike   | m      | account clerk                |   25 |         44630 |\n",
    "| Jean   | f      | waitress                     |   27 |         30000 |\n",
    "| Sana   | f      | idol / singer                |   28 |       1450000 |\n",
    "| Mary   | f      | lawyer                       |   33 |        300000 |\n",
    "| Brad   | m      | doctor                       |   35 |        150000 |\n",
    "| John   | m      | pizza delivery driver        |   37 |         30000 |\n",
    "| Sarah  | f      | Uber driver                  |   38 |         40000 |\n",
    "| Luke   | m      | data analyst                 |   39 |         80000 |\n",
    "| Julie  | f      | author                       |   40 |         80000 |\n",
    "| Tony   | m      | teacher                      |   42 |         45000 |\n",
    "| Leia   | f      | chemical engineer            |   45 |        112000 |\n",
    "| Sonja  | f      | professor                    |   45 |        150000 |\n",
    "| Pilar  | m      | entrepreneur / self-employed |   47 |         55000 |\n",
    "| Nick   | m      | CEO                          |   57 |        250000 |\n",
    "| Olivia | f      | day trader                   |   65 |         80000 |\n",
    "| Wayne  | m      | author                       |   75 |         75000 |\n",
    "+--------+--------+------------------------------+------+---------------+\n",
    "17 rows in set (0.00 sec)\n",
    "```"
   ]
  },
  {
   "cell_type": "markdown",
   "id": "2cd4f6fe-77c6-4f66-a417-59213f755256",
   "metadata": {},
   "source": [
    "<strong>-- 3. Do similarly, but instead sort by yearly salary ascending</strong><br/>\n",
    "`SELECT name, gender, career, age, yearly_salary FROM salary ORDER BY yearly_salary;`<br/>\n",
    "Might give you output like the following:"
   ]
  },
  {
   "cell_type": "markdown",
   "id": "46181419-4a0e-4ae5-b801-bf7f184a7756",
   "metadata": {},
   "source": [
    "```\n",
    "+--------+--------+------------------------------+------+---------------+\n",
    "| name   | gender | career                       | age  | yearly_salary |\n",
    "+--------+--------+------------------------------+------+---------------+\n",
    "| Jean   | f      | waitress                     |   27 |         30000 |\n",
    "| John   | m      | pizza delivery driver        |   37 |         30000 |\n",
    "| Sarah  | f      | Uber driver                  |   38 |         40000 |\n",
    "| Mike   | m      | account clerk                |   25 |         44630 |\n",
    "| Tony   | m      | teacher                      |   42 |         45000 |\n",
    "| Pilar  | m      | entrepreneur / self-employed |   47 |         55000 |\n",
    "| Cheryl | f      | software engineering intern  |   23 |         68000 |\n",
    "| Wayne  | m      | author                       |   75 |         75000 |\n",
    "| Julie  | f      | author                       |   40 |         80000 |\n",
    "| Luke   | m      | data analyst                 |   39 |         80000 |\n",
    "| Olivia | f      | day trader                   |   65 |         80000 |\n",
    "| Leia   | f      | chemical engineer            |   45 |        112000 |\n",
    "| Brad   | m      | doctor                       |   35 |        150000 |\n",
    "| Sonja  | f      | professor                    |   45 |        150000 |\n",
    "| Nick   | m      | CEO                          |   57 |        250000 |\n",
    "| Mary   | f      | lawyer                       |   33 |        300000 |\n",
    "| Sana   | f      | idol / singer                |   28 |       1450000 |\n",
    "+--------+--------+------------------------------+------+---------------+\n",
    "17 rows in set (0.00 sec)\n",
    "```"
   ]
  },
  {
   "cell_type": "markdown",
   "id": "23abd0a2-1b89-4b3b-8b03-9f4fa9b9df2c",
   "metadata": {},
   "source": [
    "<strong>-- 4. Now do similarly, but instead sort by yearly salary descending</strong><br/>\n",
    "`SELECT name, gender, career, age, yearly_salary FROM salary ORDER BY yearly_salary DESC;`<br/>\n",
    "Might give you output like the following:"
   ]
  },
  {
   "cell_type": "markdown",
   "id": "78074131-b4dd-4c50-aff8-1db7be9efaa4",
   "metadata": {},
   "source": [
    "```\n",
    "+--------+--------+------------------------------+------+---------------+\n",
    "| name   | gender | career                       | age  | yearly_salary |\n",
    "+--------+--------+------------------------------+------+---------------+\n",
    "| Sana   | f      | idol / singer                |   28 |       1450000 |\n",
    "| Mary   | f      | lawyer                       |   33 |        300000 |\n",
    "| Nick   | m      | CEO                          |   57 |        250000 |\n",
    "| Sonja  | f      | professor                    |   45 |        150000 |\n",
    "| Brad   | m      | doctor                       |   35 |        150000 |\n",
    "| Leia   | f      | chemical engineer            |   45 |        112000 |\n",
    "| Luke   | m      | data analyst                 |   39 |         80000 |\n",
    "| Olivia | f      | day trader                   |   65 |         80000 |\n",
    "| Julie  | f      | author                       |   40 |         80000 |\n",
    "| Wayne  | m      | author                       |   75 |         75000 |\n",
    "| Cheryl | f      | software engineering intern  |   23 |         68000 |\n",
    "| Pilar  | m      | entrepreneur / self-employed |   47 |         55000 |\n",
    "| Tony   | m      | teacher                      |   42 |         45000 |\n",
    "| Mike   | m      | account clerk                |   25 |         44630 |\n",
    "| Sarah  | f      | Uber driver                  |   38 |         40000 |\n",
    "| John   | m      | pizza delivery driver        |   37 |         30000 |\n",
    "| Jean   | f      | waitress                     |   27 |         30000 |\n",
    "+--------+--------+------------------------------+------+---------------+\n",
    "17 rows in set (0.00 sec)\n",
    "```"
   ]
  },
  {
   "cell_type": "markdown",
   "id": "0fb05dfe-bf40-4e42-b06a-1de5fce4c569",
   "metadata": {},
   "source": [
    "<strong>-- 5. Now do similarly, but instead sort by gender ascending and then yearly_salary descending</strong><br/>\n",
    "`SELECT name, gender, career, age, yearly_salary FROM salary ORDER BY gender, yearly_salary DESC;`<br/>\n",
    "Might give you output like the following:"
   ]
  },
  {
   "cell_type": "markdown",
   "id": "8a07de6c-bfbf-4364-8944-4e6158377fd3",
   "metadata": {},
   "source": [
    "```\n",
    "+--------+--------+------------------------------+------+---------------+\n",
    "| name   | gender | career                       | age  | yearly_salary |\n",
    "+--------+--------+------------------------------+------+---------------+\n",
    "| Sana   | f      | idol / singer                |   28 |       1450000 |\n",
    "| Mary   | f      | lawyer                       |   33 |        300000 |\n",
    "| Sonja  | f      | professor                    |   45 |        150000 |\n",
    "| Leia   | f      | chemical engineer            |   45 |        112000 |\n",
    "| Olivia | f      | day trader                   |   65 |         80000 |\n",
    "| Julie  | f      | author                       |   40 |         80000 |\n",
    "| Cheryl | f      | software engineering intern  |   23 |         68000 |\n",
    "| Sarah  | f      | Uber driver                  |   38 |         40000 |\n",
    "| Jean   | f      | waitress                     |   27 |         30000 |\n",
    "| Nick   | m      | CEO                          |   57 |        250000 |\n",
    "| Brad   | m      | doctor                       |   35 |        150000 |\n",
    "| Luke   | m      | data analyst                 |   39 |         80000 |\n",
    "| Wayne  | m      | author                       |   75 |         75000 |\n",
    "| Pilar  | m      | entrepreneur / self-employed |   47 |         55000 |\n",
    "| Tony   | m      | teacher                      |   42 |         45000 |\n",
    "| Mike   | m      | account clerk                |   25 |         44630 |\n",
    "| John   | m      | pizza delivery driver        |   37 |         30000 |\n",
    "+--------+--------+------------------------------+------+---------------+\n",
    "17 rows in set (0.00 sec)\n",
    "```"
   ]
  },
  {
   "cell_type": "code",
   "execution_count": null,
   "id": "71f2ebd4-3340-4df9-9229-a58fdd9fbcf1",
   "metadata": {},
   "outputs": [],
   "source": []
  },
  {
   "cell_type": "code",
   "execution_count": null,
   "id": "cc0ac139-cc88-4428-b003-fc3bc8625dcc",
   "metadata": {},
   "outputs": [],
   "source": []
  },
  {
   "cell_type": "code",
   "execution_count": null,
   "id": "e1906437-ebef-4d4d-91de-b41be6d06083",
   "metadata": {},
   "outputs": [],
   "source": []
  },
  {
   "cell_type": "code",
   "execution_count": null,
   "id": "a253e6b3-5dc3-47b5-afcd-047e00b4f0b3",
   "metadata": {},
   "outputs": [],
   "source": []
  },
  {
   "cell_type": "code",
   "execution_count": null,
   "id": "cff5da0c-6c92-42bb-976e-6f16378ee3e7",
   "metadata": {},
   "outputs": [],
   "source": []
  },
  {
   "cell_type": "code",
   "execution_count": null,
   "id": "c2ed9bc6-3763-44a2-a1eb-0c4e744f5df4",
   "metadata": {},
   "outputs": [],
   "source": []
  },
  {
   "cell_type": "markdown",
   "id": "6b15b147-1942-4eac-be86-65562f0c4040",
   "metadata": {},
   "source": [
    "# YouTube videos I've made on SQL"
   ]
  },
  {
   "cell_type": "code",
   "execution_count": null,
   "id": "c9e38754-27c8-4013-ab97-3141de1b97c7",
   "metadata": {},
   "outputs": [],
   "source": []
  },
  {
   "cell_type": "code",
   "execution_count": 2,
   "id": "b32055e7-aa53-43da-8603-9544208c6f2d",
   "metadata": {},
   "outputs": [],
   "source": [
    "# note to self. Use redirects instead of direct YouTube links for long term stability of the links."
   ]
  },
  {
   "cell_type": "markdown",
   "id": "c76cf9e4-9792-48d7-9773-952bcecf5c47",
   "metadata": {},
   "source": [
    "SQL SELECT Statement Tutorial<br/>\n",
    "https://youtu.be/iN8JMOtTG5E"
   ]
  },
  {
   "cell_type": "markdown",
   "id": "8cf2c5c8-6a38-4962-bfe1-e33355be1d76",
   "metadata": {},
   "source": [
    "SQL GROUP BY: Visual Guide & Examples<br/>\n",
    "https://youtu.be/Fud1Rfsl9dE"
   ]
  },
  {
   "cell_type": "markdown",
   "id": "bd128544-45b6-4b4e-95f0-b3bce9424d60",
   "metadata": {},
   "source": [
    "SQL ORDER BY: Tutorial for Beginners<br/>\n",
    "https://youtu.be/VKRnf60WZuo"
   ]
  },
  {
   "cell_type": "markdown",
   "id": "dec75936-3663-4a35-8f42-878588fa3c9a",
   "metadata": {},
   "source": [
    "SQL LIMIT: Quick Tutorial<br/>\n",
    "https://youtu.be/64YKfHVbBiE"
   ]
  },
  {
   "cell_type": "code",
   "execution_count": null,
   "id": "31a758a1-9dc0-487b-ab74-b1c65d53c52d",
   "metadata": {},
   "outputs": [],
   "source": []
  },
  {
   "cell_type": "code",
   "execution_count": null,
   "id": "b30f77d6-8942-41fd-ab8a-b02a95e0230c",
   "metadata": {},
   "outputs": [],
   "source": []
  },
  {
   "cell_type": "markdown",
   "id": "ef7b59dd-6504-4715-aed9-9d1c2adfcadd",
   "metadata": {},
   "source": [
    "# INSERTING data"
   ]
  },
  {
   "cell_type": "code",
   "execution_count": null,
   "id": "2b3e002c-93fb-41db-80a2-088176e3b580",
   "metadata": {},
   "outputs": [],
   "source": []
  },
  {
   "cell_type": "code",
   "execution_count": null,
   "id": "26eaa7e2-98e1-40aa-9ff1-f923dd06070d",
   "metadata": {},
   "outputs": [],
   "source": []
  },
  {
   "cell_type": "code",
   "execution_count": null,
   "id": "6f2b9539-ff7b-4f83-8a5e-122d25b4210e",
   "metadata": {},
   "outputs": [],
   "source": []
  },
  {
   "cell_type": "code",
   "execution_count": null,
   "id": "cd2ba99a-b42c-479d-80e8-9cd4d845e692",
   "metadata": {},
   "outputs": [],
   "source": []
  },
  {
   "cell_type": "markdown",
   "id": "40360b9c-51c7-4992-a31f-924da71db6a8",
   "metadata": {},
   "source": [
    "# DELETING data"
   ]
  },
  {
   "cell_type": "code",
   "execution_count": null,
   "id": "cdf55127-73f5-460c-a03b-b0f90c3be7e9",
   "metadata": {},
   "outputs": [],
   "source": []
  },
  {
   "cell_type": "code",
   "execution_count": null,
   "id": "2ecd297f-d410-4ccf-b9a3-05d8d4ac3a0d",
   "metadata": {},
   "outputs": [],
   "source": []
  },
  {
   "cell_type": "markdown",
   "id": "3641b53c-bde0-4bef-82a9-98882cc21fd1",
   "metadata": {},
   "source": [
    "# UPDATING rows"
   ]
  },
  {
   "cell_type": "markdown",
   "id": "3c6dd65d-6489-46ac-ab87-e31a7a47de9f",
   "metadata": {},
   "source": [
    "The general format is\n",
    "\n",
    "```\n",
    "    UPDATE table_name\n",
    "SET column_1 = 'some_value\"\n",
    "WHERE some_condition\n",
    "```"
   ]
  },
  {
   "cell_type": "code",
   "execution_count": null,
   "id": "71137e14-ca82-4780-828f-12c265c210ba",
   "metadata": {},
   "outputs": [],
   "source": []
  },
  {
   "cell_type": "code",
   "execution_count": null,
   "id": "3a3b70ee-6022-4157-bad4-f6b9819877d3",
   "metadata": {},
   "outputs": [],
   "source": []
  },
  {
   "cell_type": "code",
   "execution_count": null,
   "id": "51bb41c0-2623-4b66-8d6b-87ca8b1bf45a",
   "metadata": {},
   "outputs": [],
   "source": []
  },
  {
   "cell_type": "markdown",
   "id": "65d51c1d-f0ba-490f-9142-526c1df34ce2",
   "metadata": {},
   "source": [
    "# JOINs between 2 or more tables"
   ]
  },
  {
   "cell_type": "code",
   "execution_count": null,
   "id": "97306dd0-0230-43d4-8383-5799e7b1b7d1",
   "metadata": {},
   "outputs": [],
   "source": []
  },
  {
   "cell_type": "code",
   "execution_count": null,
   "id": "e73c05bf-26cb-4bb1-8f7f-0b3d8109d327",
   "metadata": {},
   "outputs": [],
   "source": []
  },
  {
   "cell_type": "markdown",
   "id": "feed6d19-d5ec-4042-94a7-ad86f5734c85",
   "metadata": {},
   "source": [
    "# INSERT INTO"
   ]
  },
  {
   "cell_type": "code",
   "execution_count": null,
   "id": "6f281a4a-2179-4ded-bd53-a7ca50fad3a2",
   "metadata": {},
   "outputs": [],
   "source": []
  },
  {
   "cell_type": "code",
   "execution_count": null,
   "id": "1073bc68-cd64-49f1-aff5-b7cd71a9c0a6",
   "metadata": {},
   "outputs": [],
   "source": []
  },
  {
   "cell_type": "markdown",
   "id": "752b5d9d-1a03-42e4-917d-211acec053cf",
   "metadata": {},
   "source": [
    "# SELECT"
   ]
  },
  {
   "cell_type": "code",
   "execution_count": 3,
   "id": "7cfb46fd-e5bc-49cb-b74c-c2e1f5ad0a29",
   "metadata": {},
   "outputs": [],
   "source": [
    "# This will retreivew."
   ]
  },
  {
   "cell_type": "code",
   "execution_count": null,
   "id": "2c57291e-77aa-4e27-be25-a85a004c027a",
   "metadata": {},
   "outputs": [],
   "source": []
  },
  {
   "cell_type": "markdown",
   "id": "125e2974-2a07-4ecf-8316-9fb6f9c79ec6",
   "metadata": {},
   "source": [
    "# GROUP BY"
   ]
  },
  {
   "cell_type": "code",
   "execution_count": 4,
   "id": "702542d7-a623-4744-83ca-7269615fd1fd",
   "metadata": {},
   "outputs": [],
   "source": [
    "# This will put data into groups or buckets and then do aggregate functions."
   ]
  },
  {
   "cell_type": "code",
   "execution_count": null,
   "id": "38aa117e-5c8f-4243-9a53-f5cd5fd415d1",
   "metadata": {},
   "outputs": [],
   "source": []
  },
  {
   "cell_type": "code",
   "execution_count": null,
   "id": "2f724ddf-a465-4da9-9fec-f8c35048209b",
   "metadata": {},
   "outputs": [],
   "source": []
  },
  {
   "cell_type": "markdown",
   "id": "1c7bf456-5945-4d89-b7ce-2a16891840d8",
   "metadata": {},
   "source": [
    "# ORDER BY"
   ]
  },
  {
   "cell_type": "code",
   "execution_count": 5,
   "id": "efc2a699-a088-464a-8903-f9fd9cc2a398",
   "metadata": {},
   "outputs": [],
   "source": [
    "# This will order by 1 or more columns"
   ]
  },
  {
   "cell_type": "code",
   "execution_count": null,
   "id": "417d801e-9710-4db1-ab7d-6f332f4ebf6b",
   "metadata": {},
   "outputs": [],
   "source": []
  },
  {
   "cell_type": "markdown",
   "id": "c6c5d675-b335-4a08-ac36-2df88cc5fc05",
   "metadata": {},
   "source": [
    "# SQL LIMIT"
   ]
  },
  {
   "cell_type": "markdown",
   "id": "2840a63a-d074-4fdc-9873-48ef66d915b0",
   "metadata": {},
   "source": [
    "The `LIMIT` keyword will restrict the number of rows that can appear in the output.<br/>\n",
    "For example, if you said:<br/>\n",
    "`SELECT * FROM salary LIMIT 5;`<br/>\n",
    "above would give a maximum of 5 rows (it would be 0 - 5 rows) thought."
   ]
  },
  {
   "cell_type": "markdown",
   "id": "b0a9daf8-e089-4b62-8d2d-0d8bf8c2be5f",
   "metadata": {},
   "source": [
    "```\n",
    "-- watsontechworld.com\n",
    "\n",
    "-- show databases;\n",
    "\n",
    "use teaching_db;\n",
    "\n",
    "show tables;\n",
    "\n",
    "-- 1a. Show all data from salary table\n",
    "select * from salary;\n",
    "\n",
    "-- 2a. Show all data from salary table but limit to 5 rows\n",
    "select * from salary LIMIT 5;\n",
    "\n",
    "-- 3a. select name, gender, career, age, yearly_salary from salary table and sort by age\n",
    "SELECT name, gender, career, age, yearly_salary FROM salary ORDER BY age;\n",
    "\n",
    "-- 4a. select name, gender, career, age, yearly_salary from salary table and sort by age and limit to 10 rows\n",
    "SELECT name, gender, career, age, yearly_salary \n",
    "FROM salary\n",
    "ORDER BY age\n",
    "LIMIT 10;\n",
    "\n",
    "-- 5a. select name, gender, career, age, yearly_salary from salary table and sort by yearly salary descending\n",
    "SELECT name, gender, career, age, yearly_salary\n",
    "FROM salary\n",
    "ORDER BY yearly_salary DESC;\n",
    "\n",
    "-- 6a. select name, gender, career, age, yearly_salary from salary table and sort by yearly salary descending and limit to 7 rows\n",
    "SELECT name, gender, career, age, yearly_salary\n",
    "FROM salary\n",
    "ORDER BY yearly_salary DESC\n",
    "LIMIT 7;\n",
    "\n",
    "\n",
    "-- Using star database\n",
    "--  HYG Database\n",
    "-- https://www.astronexus.com/projects/hyg\n",
    "\n",
    "-- columns\n",
    "-- proper_star_name, parsecs_from_earth, light_years_from_earth, constellation_full_name, apparent_magnitude\n",
    "-- proper_star_name - Full name of a star, if it exists (many stars have no proper name).\n",
    "-- parsecs_from_earth - distance from earth in parsecs from earth\n",
    "-- light_years_from_earth (converting from parsecs. 1 parsec = roughly 3.26156 light years)\n",
    "-- constellation_full_name - full constellation name. The original data just has abbreviations.\n",
    "-- apparent_magnitude - Apparent magnitude (brightness as seen from Earth). The smaller the value the larger the brightness as seen from Earth.\n",
    "\n",
    "-- 1b. Show all data from star_data table. Don't limit the number of rows in MySQL Workbench\n",
    "select * from star_data;\n",
    "\n",
    "-- 2b. Show how many rows in star_data table (there are over 100,000 rows)\n",
    "select COUNT(*) from star_data;\n",
    "\n",
    "-- 3b. Note how adding limit N for N >=1 to above will not change the number of rows;\n",
    "select COUNT(*) from star_data LIMIT 5;\n",
    "\n",
    "-- 4b. Show all data from star_data table but limit to 100 rows\n",
    "select * from star_data LIMIT 100;\n",
    "\n",
    "-- 5b. Select proper_star_name, light_years_from_earth, constellation_full_name, apparent_magnitude from star_data (keeping all data)\n",
    "SELECT proper_star_name, light_years_from_earth, constellation_full_name, apparent_magnitude FROM star_data;\n",
    "\n",
    "-- 6b. Select proper_star_name, light_years_from_earth, constellation_full_name, apparent_magnitude from star_data but limit to 100 rows\n",
    "SELECT proper_star_name, light_years_from_earth, constellation_full_name, apparent_magnitude FROM star_data LIMIT 100;\n",
    "\n",
    "-- 7b. Select proper_star_name, light_years_from_earth, constellation_full_name, apparent_magnitude from star_data\n",
    "-- and sort by light_years_from_earth ascending\n",
    "SELECT proper_star_name, light_years_from_earth, constellation_full_name, apparent_magnitude\n",
    "FROM star_data\n",
    "ORDER BY light_years_from_earth ASC;\n",
    "\n",
    "-- 8b. Select proper_star_name, light_years_from_earth, constellation_full_name, apparent_magnitude from star_data\n",
    "-- and sort by light_years_from_earth ascending and also limit to 100 rows\n",
    "SELECT proper_star_name, light_years_from_earth, constellation_full_name, apparent_magnitude\n",
    "FROM star_data\n",
    "ORDER BY light_years_from_earth ASC\n",
    "LIMIT 100;\n",
    "\n",
    "\n",
    "-- 9b. Select proper_star_name, light_years_from_earth, constellation_full_name, apparent_magnitude from star_data\n",
    "-- and make sure it must have a proper star name (it can't be NULL)\n",
    "-- sort by light_years_from_earth ascending.\n",
    "SELECT proper_star_name, light_years_from_earth, constellation_full_name, apparent_magnitude\n",
    "FROM star_data\n",
    "WHERE proper_star_name IS NOT NULL\n",
    "ORDER BY light_years_from_earth ASC;\n",
    "\n",
    "-- 10b. Select proper_star_name, light_years_from_earth, constellation_full_name, apparent_magnitude from star_data\n",
    "-- and make sure it must have a proper star name (it can't be NULL)\n",
    "-- sort by light_years_from_earth ascending\n",
    "-- and limit it to 100 rows\n",
    "SELECT proper_star_name, light_years_from_earth, constellation_full_name, apparent_magnitude\n",
    "FROM star_data\n",
    "WHERE proper_star_name IS NOT NULL\n",
    "ORDER BY light_years_from_earth ASC\n",
    "LIMIT 100;\n",
    "\n",
    "\n",
    "\n",
    "-- 11b.  select constellation_full_name, average light years from earth grouped by constellation_full_name sorted by average light years from earth\n",
    "-- and make sure constellation name is not null\n",
    "SELECT constellation_full_name, AVG(light_years_from_earth)\n",
    "FROM star_data\n",
    "WHERE constellation_full_name IS NOT NULL\n",
    "GROUP BY constellation_full_name\n",
    "ORDER BY AVG(light_years_from_earth);\n",
    "\n",
    "-- 12b.  select constellation_full_name, average light years from earth grouped by constellation_full_name sorted by average light years from earth\n",
    "-- and make sure constellation name is not null and limit to 50 rows\n",
    "SELECT constellation_full_name, AVG(light_years_from_earth)\n",
    "FROM star_data\n",
    "WHERE constellation_full_name IS NOT NULL\n",
    "GROUP BY constellation_full_name\n",
    "ORDER BY AVG(light_years_from_earth)\n",
    "LIMIT 50;\n",
    "```"
   ]
  },
  {
   "cell_type": "code",
   "execution_count": null,
   "id": "65e2fb13-a04b-46d7-9426-f19ce90a9c79",
   "metadata": {},
   "outputs": [],
   "source": []
  },
  {
   "cell_type": "code",
   "execution_count": null,
   "id": "e6e2b920-d7e3-4895-86cb-dd530e1b63b9",
   "metadata": {},
   "outputs": [],
   "source": []
  },
  {
   "cell_type": "markdown",
   "id": "dfaf18a5-759e-4250-b68f-e6761df6f430",
   "metadata": {},
   "source": [
    "# Appendix"
   ]
  },
  {
   "cell_type": "code",
   "execution_count": null,
   "id": "56d30a56-129c-43ac-8686-906b745d75e0",
   "metadata": {},
   "outputs": [],
   "source": []
  },
  {
   "cell_type": "markdown",
   "id": "03b39b22-cfcf-488c-b6fe-88e8aba4a13a",
   "metadata": {},
   "source": [
    "# MySQL Commands"
   ]
  },
  {
   "cell_type": "markdown",
   "id": "266cb10b-f903-4660-a2d1-aa5848028b45",
   "metadata": {},
   "source": [
    "## showing databases"
   ]
  },
  {
   "cell_type": "markdown",
   "id": "9fbff949-659a-4aea-8b92-5221b81d2fc0",
   "metadata": {},
   "source": [
    "`show databases`"
   ]
  },
  {
   "cell_type": "code",
   "execution_count": null,
   "id": "cfd46513-c704-495c-95b1-44cb26ec5025",
   "metadata": {},
   "outputs": [],
   "source": []
  },
  {
   "cell_type": "markdown",
   "id": "a5bfa971-cb0a-4217-9658-dbdd4419fe54",
   "metadata": {
    "jp-MarkdownHeadingCollapsed": true
   },
   "source": [
    "You might see something like this:"
   ]
  },
  {
   "cell_type": "markdown",
   "id": "49b897f9-d879-4e84-bfa1-2a038f8d79a6",
   "metadata": {},
   "source": [
    "show databases; <br/>\n",
    "+--------------------+<br/>\n",
    "| Database           |<br/>\n",
    "+--------------------+<br/>\n",
    "| information_schema |<br/>\n",
    "| mysql              |<br/>\n",
    "| performance_schema |<br/>\n",
    "| sys                |<br/>\n",
    "| teaching_db        |<br/>\n",
    "| wordpress_db       |<br/>\n",
    "+--------------------+<br/>\n",
    "6 rows in set (0.01 sec)<br/>"
   ]
  },
  {
   "cell_type": "markdown",
   "id": "f4ce6903-1741-4daa-a6b7-fbffbcdf07f0",
   "metadata": {},
   "source": [
    "# Select or get into a specific database"
   ]
  },
  {
   "cell_type": "markdown",
   "id": "3c80f098-12f9-464d-8efe-40661f3a6f7b",
   "metadata": {},
   "source": [
    "`use some_database_name`"
   ]
  },
  {
   "cell_type": "markdown",
   "id": "5f8685ed-b1ab-4d25-9595-7951ae686341",
   "metadata": {},
   "source": [
    "Let's say you want to use the teaching_db database. To start using that, in MySQL, you would type something like the following:"
   ]
  },
  {
   "cell_type": "markdown",
   "id": "a9aa5213-05c6-4e93-8c1d-0b4d78bab54f",
   "metadata": {},
   "source": [
    "`use teaching_db`"
   ]
  },
  {
   "cell_type": "markdown",
   "id": "e0873d31-8d11-4321-89eb-b84616e95a23",
   "metadata": {},
   "source": [
    "You might see something like this:"
   ]
  },
  {
   "cell_type": "markdown",
   "id": "9c7eb47d-a704-48b1-a0d1-ff8c1b08abb5",
   "metadata": {},
   "source": [
    "Reading table information for completion of table and column names<br/>\n",
    "You can turn off this feature to get a quicker startup with -A<br/>\n",
    "<br/>\n",
    "Database changed"
   ]
  },
  {
   "cell_type": "code",
   "execution_count": null,
   "id": "93f016b1-60a7-40a5-b1b7-824631f41146",
   "metadata": {},
   "outputs": [],
   "source": []
  },
  {
   "cell_type": "markdown",
   "id": "8364fd18-2a8b-4059-ab63-3588cf4fbaca",
   "metadata": {},
   "source": [
    "# Showing tables in a database"
   ]
  },
  {
   "cell_type": "markdown",
   "id": "0089f330-9c6b-411b-a34a-0a820f8e1345",
   "metadata": {},
   "source": [
    "To show all the tables in a database, once a database has been selected, you can use a similar command like the following:"
   ]
  },
  {
   "cell_type": "markdown",
   "id": "181cdd0b-6eb3-4d44-8dca-2d9616955313",
   "metadata": {},
   "source": [
    "`show tables;`"
   ]
  },
  {
   "cell_type": "markdown",
   "id": "6c743190-e8b2-486b-9a36-c24ca19de86d",
   "metadata": {},
   "source": [
    "You might see something like:"
   ]
  },
  {
   "cell_type": "markdown",
   "id": "4a269bba-2671-4127-96ea-f7e55592970c",
   "metadata": {},
   "source": [
    "show tables;<br/>\n",
    "+-----------------------+<br/>\n",
    "| Tables_in_teaching_db |<br/>\n",
    "+-----------------------+<br/>\n",
    "| salary                |<br/>\n",
    "| star_data             |<br/>\n",
    "+-----------------------+<br/>\n",
    "2 rows in set (0.01 sec)\n",
    "\n"
   ]
  },
  {
   "cell_type": "code",
   "execution_count": null,
   "id": "22d7fd5d-cd40-4661-8bdf-740d562c0ece",
   "metadata": {},
   "outputs": [],
   "source": []
  },
  {
   "cell_type": "markdown",
   "id": "721ef6aa-fcb1-441d-80db-c6ab625f72a7",
   "metadata": {},
   "source": [
    "# Note on capitalization of keywords in SQL"
   ]
  },
  {
   "cell_type": "markdown",
   "id": "4f7075af-fcd9-45e4-9d5b-772bcb8691ad",
   "metadata": {},
   "source": [
    "Technically, keywords such as `SELECT`, `ORDER BY`, `GROUP BY`, `FROM`, and other SQL keywords actually don't need to be capitalized, and the system usually won't care if you do. But, it is good practice because:\n",
    "* It can make it easier to quickly see SQL keywords"
   ]
  },
  {
   "cell_type": "code",
   "execution_count": null,
   "id": "6b7aedab-5507-45d5-a7a6-bb9383b817d3",
   "metadata": {},
   "outputs": [],
   "source": []
  },
  {
   "cell_type": "markdown",
   "id": "3947d069-54bd-4f99-83ab-4b6654fbc84a",
   "metadata": {},
   "source": [
    "# pandas code for interaction with a database"
   ]
  },
  {
   "cell_type": "markdown",
   "id": "f43c72d5-d0bc-43c4-9951-d44d163a6723",
   "metadata": {},
   "source": [
    "df.to_sql()<br/>\n",
    "the .to_sql() method will \"Write records stored in a DataFrame to a SQL database.\", as mentioned in its documentation"
   ]
  },
  {
   "cell_type": "code",
   "execution_count": null,
   "id": "3c4169b1-2946-402c-95d4-825b27ed04d7",
   "metadata": {},
   "outputs": [],
   "source": []
  },
  {
   "cell_type": "code",
   "execution_count": null,
   "id": "8b16b08c-65be-48d7-bd19-dd6e3ad50370",
   "metadata": {},
   "outputs": [],
   "source": []
  },
  {
   "cell_type": "code",
   "execution_count": null,
   "id": "4e855621-be2f-4090-83f1-7ff12608b86a",
   "metadata": {},
   "outputs": [],
   "source": []
  }
 ],
 "metadata": {
  "kernelspec": {
   "display_name": "Python (.venv - useful-pandas-code)",
   "language": "python",
   "name": "useful-pandas-code"
  },
  "language_info": {
   "codemirror_mode": {
    "name": "ipython",
    "version": 3
   },
   "file_extension": ".py",
   "mimetype": "text/x-python",
   "name": "python",
   "nbconvert_exporter": "python",
   "pygments_lexer": "ipython3",
   "version": "3.10.12"
  }
 },
 "nbformat": 4,
 "nbformat_minor": 5
}
