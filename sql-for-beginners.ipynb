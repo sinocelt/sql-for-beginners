{
 "cells": [
  {
   "cell_type": "markdown",
   "id": "04999365-1d6e-4128-b5be-33105371add3",
   "metadata": {},
   "source": [
    "# SQL for Beginners 💻"
   ]
  },
  {
   "cell_type": "markdown",
   "id": "e3c443b0-f57c-4bfc-9d61-3f6efec35e45",
   "metadata": {},
   "source": [
    "By Justin Barry <br/>\n",
    "https://watsontechworld.com"
   ]
  },
  {
   "cell_type": "markdown",
   "id": "842b5d79-c6de-4e2f-9787-31cf3d6af1b8",
   "metadata": {},
   "source": [
    "Welcome to SQL for Beginners. SQL is a wonderful language in my opinion. It is one of the biggest languages in the world, and is a language designed specifically for tabular databases; that is, databases that use tables, like spreadsheets do."
   ]
  },
  {
   "cell_type": "code",
   "execution_count": null,
   "id": "187b603a-2f7c-479b-8e22-a0e99857edcb",
   "metadata": {},
   "outputs": [],
   "source": []
  },
  {
   "cell_type": "code",
   "execution_count": 1,
   "id": "7ca6abe2-8bf5-4af9-ac0b-7372ed6a6117",
   "metadata": {},
   "outputs": [],
   "source": [
    "# Note I might use this book as the basis for a course"
   ]
  },
  {
   "cell_type": "code",
   "execution_count": null,
   "id": "ace76ef2-6e30-43ba-9696-bad2c3695391",
   "metadata": {},
   "outputs": [],
   "source": []
  },
  {
   "cell_type": "markdown",
   "id": "3d2eab38-4599-434a-a02c-a0b065a13b18",
   "metadata": {},
   "source": [
    "<strong>Note about different database systems:</strong><br/>\n",
    "Different database systems such as MySQL / MariaDB, PostgreSQL, SQLite have some subtle differences in how they are implemented. I will try to show you SQL code that will work in all of the systems. This book will use MySQL / MariaDB, but with a little editing, you should be able to use it in PostgreSQL, SQLite, or almost any other database system that uses SQL"
   ]
  },
  {
   "cell_type": "code",
   "execution_count": null,
   "id": "f7e68151-3e14-46ba-be64-08c1d42eb74f",
   "metadata": {},
   "outputs": [],
   "source": []
  },
  {
   "cell_type": "code",
   "execution_count": null,
   "id": "32e4408f-25f2-4d47-8886-f26868161615",
   "metadata": {},
   "outputs": [],
   "source": []
  },
  {
   "cell_type": "markdown",
   "id": "3c1f05c6-4ff2-4435-bf45-6c6df8bc104e",
   "metadata": {},
   "source": [
    "# Why even learn SQL? Why not just use Microsoft Excel, Google Sheets, LibreOffice Calc, or some other spreadsheet software?"
   ]
  },
  {
   "cell_type": "markdown",
   "id": "cf03499b-d414-4843-bfb1-38014985434f",
   "metadata": {},
   "source": [
    "This is a good question. In a nutshell, here are some top benefits of using SQL instead of a spreadsheet:\n",
    "* SQL scales far better for large datasets. For example, you can go from dozens of rows to millions of rows without needing to change much\n",
    "* SQL offers great optimizations\n",
    "* SQL can be used with other programming languages such as Python, JavaScript, and almost any other modern programming language\n",
    "* SQL allows you to build modern apps and websites\n",
    "* Learning SQL will allow you to learn backend web development and full stack web development"
   ]
  },
  {
   "cell_type": "code",
   "execution_count": null,
   "id": "19594913-f216-4797-9c59-d5c8265797e5",
   "metadata": {},
   "outputs": [],
   "source": []
  },
  {
   "cell_type": "markdown",
   "id": "0c80cb7f-6742-4906-a539-6f3de95d259c",
   "metadata": {},
   "source": [
    "# What are some top softwares that use SQL?"
   ]
  },
  {
   "cell_type": "markdown",
   "id": "33a72874-58a7-4a5e-b659-01e58a3b4737",
   "metadata": {},
   "source": [
    "* WordPress (which uses MySQL by default)"
   ]
  },
  {
   "cell_type": "code",
   "execution_count": null,
   "id": "680f8859-38c9-439a-9278-f138e6191f92",
   "metadata": {},
   "outputs": [],
   "source": []
  },
  {
   "attachments": {},
   "cell_type": "markdown",
   "id": "4706cf06-a48c-4d9e-96c3-231f168fd50d",
   "metadata": {},
   "source": [
    "# Database definition?????\n",
    "\n",
    "## Get definition"
   ]
  },
  {
   "attachments": {},
   "cell_type": "markdown",
   "id": "11be18f3-0449-4acd-a605-f4e70f1b9948",
   "metadata": {},
   "source": [
    "This book is not meant to be a complicated computer science book on the theory of databases. In a nutshell, a database is just a collection of data. You could even consider a library with many books as a database. A database is a collection of information. But specifically with a computer, ?????????"
   ]
  },
  {
   "cell_type": "code",
   "execution_count": null,
   "id": "2b74ecea-7ff5-452c-84c7-178c7adf3c54",
   "metadata": {},
   "outputs": [],
   "source": []
  },
  {
   "cell_type": "code",
   "execution_count": null,
   "id": "382dab3a-6dd6-435a-8e71-d3c69e6a1066",
   "metadata": {},
   "outputs": [],
   "source": []
  },
  {
   "cell_type": "markdown",
   "id": "a1348e16-0ab8-46e0-a3f5-90933e38ac6b",
   "metadata": {},
   "source": [
    "# SQL vs Spreadsheets. Which to use?"
   ]
  },
  {
   "cell_type": "markdown",
   "id": "27d62109-7179-453d-af09-27ee7142554b",
   "metadata": {},
   "source": [
    "There is no cut and dried answer. But generally, spreadsheets are good if you have a few hundred to a few thousand rows, based on my own experience. But once you get past 100,000 rows, SQL generally becomes a far better use case"
   ]
  },
  {
   "attachments": {},
   "cell_type": "markdown",
   "id": "41b2b590-1ee3-4654-a44f-88d13bec1af4",
   "metadata": {},
   "source": [
    "# Spreadsheet benefits\n",
    "* probably easier to use for very easy tracking, such as tracking exercise or spending for a small number of rows\n",
    "* Spreadsheet softwares may have a lower learning curve\n"
   ]
  },
  {
   "cell_type": "markdown",
   "id": "00f441e6-5a9f-4ff7-a224-06b3d191cad8",
   "metadata": {},
   "source": [
    "# Data is data. How you should view or use it depends on the situation. You can sometimes interchangably go between SQL databases and spreadsheets"
   ]
  },
  {
   "cell_type": "markdown",
   "id": "869f289b-8691-4641-a38e-5393e13193f2",
   "metadata": {},
   "source": [
    "And actually, sometimes you'll use both. I often will import data from a CSV file and then insert that data into a database. Or I do a search for something in a database, and then output that to a CSV file."
   ]
  },
  {
   "cell_type": "code",
   "execution_count": null,
   "id": "976b5cde-4d56-4e62-93aa-ac8216dd3bae",
   "metadata": {},
   "outputs": [],
   "source": []
  },
  {
   "cell_type": "code",
   "execution_count": null,
   "id": "38ddf07a-5abc-4352-b8de-09a801cdfe75",
   "metadata": {},
   "outputs": [],
   "source": []
  },
  {
   "cell_type": "markdown",
   "id": "7e5426f0-afb1-4272-a407-fd1747427da0",
   "metadata": {},
   "source": [
    "# SQL benefits\n",
    "* Far more powerful than spreadsheet softwares\n",
    "* Scales far better\n",
    "* Can be more powerful\n",
    "* Can be far faster than a spreadsheet\n",
    "* Allows you to interact with a database interactively"
   ]
  },
  {
   "cell_type": "code",
   "execution_count": null,
   "id": "24825363-19f9-4eec-acaa-faa374e7db0c",
   "metadata": {},
   "outputs": [],
   "source": []
  },
  {
   "cell_type": "markdown",
   "id": "0c2f187b-084e-4af4-893f-019d84fad74f",
   "metadata": {},
   "source": [
    "# Selecting or retrieving data from a databases"
   ]
  },
  {
   "cell_type": "markdown",
   "id": "9f3230bb-fbd8-40fd-8d6b-3eb1fee43b6d",
   "metadata": {},
   "source": [
    "Selecting or retrieving data is done with the `SELECT` keyword"
   ]
  },
  {
   "cell_type": "code",
   "execution_count": null,
   "id": "89042364-f630-4513-a769-ebb6f167b11b",
   "metadata": {},
   "outputs": [],
   "source": []
  },
  {
   "cell_type": "markdown",
   "id": "aa8f0b98-9030-440a-98ee-9cdb64ae6dd9",
   "metadata": {},
   "source": [
    "<strong>-- 1. Show all data from salary table</strong><br/>\n",
    "`select * from salary;`\n",
    "\n",
    "<strong>-- 2. select name, gender, career, age, yearly_salary from salary table and sort by age</strong><br/>\n",
    "`SELECT name, gender, career, age, yearly_salary FROM salary ORDER BY age;`\n",
    "\n",
    "<strong>-- 3. Do similarly, but instead sort by yearly salary ascending</strong><br/>\n",
    "`SELECT name, gender, career, age, yearly_salary FROM salary ORDER BY yearly_salary;`\n",
    "\n",
    "<strong>-- 4. Now do similarly, but instead sort by yearly salary descending</strong><br/>\n",
    "`SELECT name, gender, career, age, yearly_salary FROM salary ORDER BY yearly_salary DESC;`\n",
    "\n",
    "<strong>-- 5. Now do similarly, but instead sort by gender ascending and then yearly_salary descending</strong><br/>\n",
    "`SELECT name, gender, career, age, yearly_salary FROM salary ORDER BY gender, yearly_salary DESC;`"
   ]
  },
  {
   "cell_type": "code",
   "execution_count": null,
   "id": "da8e163b-1d34-4463-bacf-d8055f785526",
   "metadata": {},
   "outputs": [],
   "source": []
  },
  {
   "cell_type": "markdown",
   "id": "178f4d23-1c63-4efe-8774-19c446944dcf",
   "metadata": {},
   "source": [
    "<strong>-- 1. Show all data from salary table</strong><br/>\n",
    "`select * from salary;`"
   ]
  },
  {
   "cell_type": "markdown",
   "id": "af4d2a6c-0b50-4215-81f9-8738beaac6fa",
   "metadata": {},
   "source": [
    "Might give you output like the following:"
   ]
  },
  {
   "cell_type": "markdown",
   "id": "080e5f5a-77a7-4106-8ee3-8cbb46aac490",
   "metadata": {},
   "source": [
    "+--------+------------------------------+---------------+--------+------+-----------+<br/>\n",
    "| name   | career                       | yearly_salary | gender | age  | age_group |<br/>\n",
    "+--------+------------------------------+---------------+--------+------+-----------+<br/>\n",
    "| Brad   | doctor                       |        150000 | m      |   35 | 30-39     |<br/>\n",
    "| Sana   | idol / singer                |       1450000 | f      |   28 | 20-29     |<br/>\n",
    "| Luke   | data analyst                 |         80000 | m      |   39 | 30-39     |<br/>\n",
    "| Tony   | teacher                      |         45000 | m      |   42 | 40-49     |<br/>\n",
    "| Mike   | account clerk                |         44630 | m      |   25 | 20-29     |<br/>\n",
    "| Leia   | chemical engineer            |        112000 | f      |   45 | 40-49     |<br/>\n",
    "| Nick   | CEO                          |        250000 | m      |   57 | 50-59     |<br/>\n",
    "| Cheryl | software engineering intern  |         68000 | f      |   23 | 20-29     |<br/>\n",
    "| Wayne  | author                       |         75000 | m      |   75 | 70-79     |<br/>\n",
    "| Julie  | author                       |         80000 | f      |   40 | 40-49     |<br/>\n",
    "| John   | pizza delivery driver        |         30000 | m      |   37 | 30-39     |<br/>\n",
    "| Jean   | waitress                     |         30000 | f      |   27 | 20-29     |<br/>\n",
    "| Sonja  | professor                    |        150000 | f      |   45 | 40-49     |<br/>\n",
    "| Sarah  | Uber driver                  |         40000 | f      |   38 | 30-39     |<br/>\n",
    "| Mary   | lawyer                       |        300000 | f      |   33 | 30-39     |<br/>\n",
    "| Olivia | day trader                   |         80000 | f      |   65 | 60-69     |<br/>\n",
    "| Pilar  | entrepreneur / self-employed |         55000 | m      |   47 | 40-49     |<br/>\n",
    "+--------+------------------------------+---------------+--------+------+-----------+<br/>\n",
    "17 rows in set (0.01 sec)<br/>"
   ]
  },
  {
   "cell_type": "code",
   "execution_count": null,
   "id": "4d31412c-ee06-443c-b6ca-6eccb05de7b5",
   "metadata": {},
   "outputs": [],
   "source": []
  },
  {
   "cell_type": "code",
   "execution_count": null,
   "id": "c2ed9bc6-3763-44a2-a1eb-0c4e744f5df4",
   "metadata": {},
   "outputs": [],
   "source": []
  },
  {
   "cell_type": "markdown",
   "id": "6b15b147-1942-4eac-be86-65562f0c4040",
   "metadata": {},
   "source": [
    "# YouTube videos I've made on SQL"
   ]
  },
  {
   "cell_type": "code",
   "execution_count": null,
   "id": "c9e38754-27c8-4013-ab97-3141de1b97c7",
   "metadata": {},
   "outputs": [],
   "source": []
  },
  {
   "cell_type": "code",
   "execution_count": null,
   "id": "b32055e7-aa53-43da-8603-9544208c6f2d",
   "metadata": {},
   "outputs": [],
   "source": [
    "# note to self. Use redirects instead of direct YouTube links for long term stability of the links."
   ]
  },
  {
   "cell_type": "markdown",
   "id": "c76cf9e4-9792-48d7-9773-952bcecf5c47",
   "metadata": {},
   "source": [
    "SQL SELECT Statement Tutorial<br/>\n",
    "https://youtu.be/iN8JMOtTG5E"
   ]
  },
  {
   "cell_type": "markdown",
   "id": "8cf2c5c8-6a38-4962-bfe1-e33355be1d76",
   "metadata": {},
   "source": [
    "SQL GROUP BY: Visual Guide & Examples<br/>\n",
    "https://youtu.be/Fud1Rfsl9dE"
   ]
  },
  {
   "cell_type": "markdown",
   "id": "bd128544-45b6-4b4e-95f0-b3bce9424d60",
   "metadata": {},
   "source": [
    "SQL ORDER BY: Tutorial for Beginners<br/>\n",
    "https://youtu.be/VKRnf60WZuo"
   ]
  },
  {
   "cell_type": "markdown",
   "id": "dec75936-3663-4a35-8f42-878588fa3c9a",
   "metadata": {},
   "source": [
    "SQL LIMIT: Quick Tutorial<br/>\n",
    "https://youtu.be/64YKfHVbBiE"
   ]
  },
  {
   "cell_type": "code",
   "execution_count": null,
   "id": "31a758a1-9dc0-487b-ab74-b1c65d53c52d",
   "metadata": {},
   "outputs": [],
   "source": []
  },
  {
   "cell_type": "code",
   "execution_count": null,
   "id": "b30f77d6-8942-41fd-ab8a-b02a95e0230c",
   "metadata": {},
   "outputs": [],
   "source": []
  },
  {
   "cell_type": "markdown",
   "id": "ef7b59dd-6504-4715-aed9-9d1c2adfcadd",
   "metadata": {
    "jp-MarkdownHeadingCollapsed": true
   },
   "source": [
    "# INSERTING data"
   ]
  },
  {
   "cell_type": "markdown",
   "id": "40360b9c-51c7-4992-a31f-924da71db6a8",
   "metadata": {},
   "source": [
    "# DELETING data"
   ]
  },
  {
   "cell_type": "markdown",
   "id": "65d51c1d-f0ba-490f-9142-526c1df34ce2",
   "metadata": {},
   "source": [
    "# JOINs between 2 or more tables"
   ]
  },
  {
   "cell_type": "code",
   "execution_count": null,
   "id": "97306dd0-0230-43d4-8383-5799e7b1b7d1",
   "metadata": {},
   "outputs": [],
   "source": []
  },
  {
   "cell_type": "code",
   "execution_count": null,
   "id": "e73c05bf-26cb-4bb1-8f7f-0b3d8109d327",
   "metadata": {},
   "outputs": [],
   "source": []
  },
  {
   "cell_type": "markdown",
   "id": "feed6d19-d5ec-4042-94a7-ad86f5734c85",
   "metadata": {},
   "source": [
    "# INSERT INTO"
   ]
  },
  {
   "cell_type": "code",
   "execution_count": null,
   "id": "6f281a4a-2179-4ded-bd53-a7ca50fad3a2",
   "metadata": {},
   "outputs": [],
   "source": []
  },
  {
   "cell_type": "code",
   "execution_count": null,
   "id": "1073bc68-cd64-49f1-aff5-b7cd71a9c0a6",
   "metadata": {},
   "outputs": [],
   "source": []
  },
  {
   "cell_type": "markdown",
   "id": "752b5d9d-1a03-42e4-917d-211acec053cf",
   "metadata": {},
   "source": [
    "# SELECT"
   ]
  },
  {
   "cell_type": "code",
   "execution_count": null,
   "id": "7cfb46fd-e5bc-49cb-b74c-c2e1f5ad0a29",
   "metadata": {},
   "outputs": [],
   "source": [
    "This will retreivew."
   ]
  },
  {
   "cell_type": "code",
   "execution_count": null,
   "id": "2c57291e-77aa-4e27-be25-a85a004c027a",
   "metadata": {},
   "outputs": [],
   "source": []
  },
  {
   "cell_type": "markdown",
   "id": "125e2974-2a07-4ecf-8316-9fb6f9c79ec6",
   "metadata": {},
   "source": [
    "# GROUP BY"
   ]
  },
  {
   "cell_type": "code",
   "execution_count": null,
   "id": "702542d7-a623-4744-83ca-7269615fd1fd",
   "metadata": {},
   "outputs": [],
   "source": [
    "This will put data into groups or buckets and then do aggregate functions."
   ]
  },
  {
   "cell_type": "code",
   "execution_count": null,
   "id": "38aa117e-5c8f-4243-9a53-f5cd5fd415d1",
   "metadata": {},
   "outputs": [],
   "source": []
  },
  {
   "cell_type": "code",
   "execution_count": null,
   "id": "2f724ddf-a465-4da9-9fec-f8c35048209b",
   "metadata": {},
   "outputs": [],
   "source": []
  },
  {
   "cell_type": "markdown",
   "id": "1c7bf456-5945-4d89-b7ce-2a16891840d8",
   "metadata": {},
   "source": [
    "# ORDER BY"
   ]
  },
  {
   "cell_type": "code",
   "execution_count": null,
   "id": "efc2a699-a088-464a-8903-f9fd9cc2a398",
   "metadata": {},
   "outputs": [],
   "source": [
    "This will order by 1 or more columns"
   ]
  },
  {
   "cell_type": "code",
   "execution_count": null,
   "id": "417d801e-9710-4db1-ab7d-6f332f4ebf6b",
   "metadata": {},
   "outputs": [],
   "source": []
  },
  {
   "cell_type": "markdown",
   "id": "c6c5d675-b335-4a08-ac36-2df88cc5fc05",
   "metadata": {},
   "source": [
    "# SQL LIMIT"
   ]
  },
  {
   "cell_type": "markdown",
   "id": "2840a63a-d074-4fdc-9873-48ef66d915b0",
   "metadata": {},
   "source": [
    "The `LIMIT` keyword will restrict the number of rows that can appear in the output.<br/>\n",
    "For example, if you said:<br/>\n",
    "`SELECT * FROM salary LIMIT 5;`<br/>\n",
    "above would give a maximum of 5 rows (it would be 0 - 5 rows) thought."
   ]
  },
  {
   "cell_type": "raw",
   "id": "dc4ee4c7-73e8-4c64-8f5e-626efd52b3aa",
   "metadata": {},
   "source": [
    "```-- watsontechworld.com\n",
    "\n",
    "-- show databases;\n",
    "\n",
    "use teaching_db;\n",
    "\n",
    "show tables;\n",
    "\n",
    "-- 1a. Show all data from salary table\n",
    "select * from salary;\n",
    "\n",
    "-- 2a. Show all data from salary table but limit to 5 rows\n",
    "select * from salary LIMIT 5;\n",
    "\n",
    "-- 3a. select name, gender, career, age, yearly_salary from salary table and sort by age\n",
    "SELECT name, gender, career, age, yearly_salary FROM salary ORDER BY age;\n",
    "\n",
    "-- 4a. select name, gender, career, age, yearly_salary from salary table and sort by age and limit to 10 rows\n",
    "SELECT name, gender, career, age, yearly_salary \n",
    "FROM salary\n",
    "ORDER BY age\n",
    "LIMIT 10;\n",
    "\n",
    "-- 5a. select name, gender, career, age, yearly_salary from salary table and sort by yearly salary descending\n",
    "SELECT name, gender, career, age, yearly_salary\n",
    "FROM salary\n",
    "ORDER BY yearly_salary DESC;\n",
    "\n",
    "-- 6a. select name, gender, career, age, yearly_salary from salary table and sort by yearly salary descending and limit to 7 rows\n",
    "SELECT name, gender, career, age, yearly_salary\n",
    "FROM salary\n",
    "ORDER BY yearly_salary DESC\n",
    "LIMIT 7;\n",
    "\n",
    "\n",
    "-- Using star database\n",
    "--  HYG Database\n",
    "-- https://www.astronexus.com/projects/hyg\n",
    "\n",
    "-- columns\n",
    "-- proper_star_name, parsecs_from_earth, light_years_from_earth, constellation_full_name, apparent_magnitude\n",
    "-- proper_star_name - Full name of a star, if it exists (many stars have no proper name).\n",
    "-- parsecs_from_earth - distance from earth in parsecs from earth\n",
    "-- light_years_from_earth (converting from parsecs. 1 parsec = roughly 3.26156 light years)\n",
    "-- constellation_full_name - full constellation name. The original data just has abbreviations.\n",
    "-- apparent_magnitude - Apparent magnitude (brightness as seen from Earth). The smaller the value the larger the brightness as seen from Earth.\n",
    "\n",
    "-- 1b. Show all data from star_data table. Don't limit the number of rows in MySQL Workbench\n",
    "select * from star_data;\n",
    "\n",
    "-- 2b. Show how many rows in star_data table (there are over 100,000 rows)\n",
    "select COUNT(*) from star_data;\n",
    "\n",
    "-- 3b. Note how adding limit N for N >=1 to above will not change the number of rows;\n",
    "select COUNT(*) from star_data LIMIT 5;\n",
    "\n",
    "-- 4b. Show all data from star_data table but limit to 100 rows\n",
    "select * from star_data LIMIT 100;\n",
    "\n",
    "-- 5b. Select proper_star_name, light_years_from_earth, constellation_full_name, apparent_magnitude from star_data (keeping all data)\n",
    "SELECT proper_star_name, light_years_from_earth, constellation_full_name, apparent_magnitude FROM star_data;\n",
    "\n",
    "-- 6b. Select proper_star_name, light_years_from_earth, constellation_full_name, apparent_magnitude from star_data but limit to 100 rows\n",
    "SELECT proper_star_name, light_years_from_earth, constellation_full_name, apparent_magnitude FROM star_data LIMIT 100;\n",
    "\n",
    "-- 7b. Select proper_star_name, light_years_from_earth, constellation_full_name, apparent_magnitude from star_data\n",
    "-- and sort by light_years_from_earth ascending\n",
    "SELECT proper_star_name, light_years_from_earth, constellation_full_name, apparent_magnitude\n",
    "FROM star_data\n",
    "ORDER BY light_years_from_earth ASC;\n",
    "\n",
    "-- 8b. Select proper_star_name, light_years_from_earth, constellation_full_name, apparent_magnitude from star_data\n",
    "-- and sort by light_years_from_earth ascending and also limit to 100 rows\n",
    "SELECT proper_star_name, light_years_from_earth, constellation_full_name, apparent_magnitude\n",
    "FROM star_data\n",
    "ORDER BY light_years_from_earth ASC\n",
    "LIMIT 100;\n",
    "\n",
    "\n",
    "-- 9b. Select proper_star_name, light_years_from_earth, constellation_full_name, apparent_magnitude from star_data\n",
    "-- and make sure it must have a proper star name (it can't be NULL)\n",
    "-- sort by light_years_from_earth ascending.\n",
    "SELECT proper_star_name, light_years_from_earth, constellation_full_name, apparent_magnitude\n",
    "FROM star_data\n",
    "WHERE proper_star_name IS NOT NULL\n",
    "ORDER BY light_years_from_earth ASC;\n",
    "\n",
    "-- 10b. Select proper_star_name, light_years_from_earth, constellation_full_name, apparent_magnitude from star_data\n",
    "-- and make sure it must have a proper star name (it can't be NULL)\n",
    "-- sort by light_years_from_earth ascending\n",
    "-- and limit it to 100 rows\n",
    "SELECT proper_star_name, light_years_from_earth, constellation_full_name, apparent_magnitude\n",
    "FROM star_data\n",
    "WHERE proper_star_name IS NOT NULL\n",
    "ORDER BY light_years_from_earth ASC\n",
    "LIMIT 100;\n",
    "\n",
    "\n",
    "\n",
    "-- 11b.  select constellation_full_name, average light years from earth grouped by constellation_full_name sorted by average light years from earth\n",
    "-- and make sure constellation name is not null\n",
    "SELECT constellation_full_name, AVG(light_years_from_earth)\n",
    "FROM star_data\n",
    "WHERE constellation_full_name IS NOT NULL\n",
    "GROUP BY constellation_full_name\n",
    "ORDER BY AVG(light_years_from_earth);\n",
    "\n",
    "-- 12b.  select constellation_full_name, average light years from earth grouped by constellation_full_name sorted by average light years from earth\n",
    "-- and make sure constellation name is not null and limit to 50 rows\n",
    "SELECT constellation_full_name, AVG(light_years_from_earth)\n",
    "FROM star_data\n",
    "WHERE constellation_full_name IS NOT NULL\n",
    "GROUP BY constellation_full_name\n",
    "ORDER BY AVG(light_years_from_earth)\n",
    "LIMIT 50;```"
   ]
  },
  {
   "cell_type": "code",
   "execution_count": null,
   "id": "65e2fb13-a04b-46d7-9426-f19ce90a9c79",
   "metadata": {},
   "outputs": [],
   "source": []
  },
  {
   "cell_type": "code",
   "execution_count": null,
   "id": "a4914a77-0594-4214-9e6a-a886118d93d8",
   "metadata": {},
   "outputs": [],
   "source": []
  },
  {
   "cell_type": "code",
   "execution_count": null,
   "id": "c6753324-90cf-446f-8b6d-38e014bfa0ae",
   "metadata": {},
   "outputs": [],
   "source": []
  },
  {
   "cell_type": "code",
   "execution_count": null,
   "id": "95bb6089-736d-4ace-8e8a-458aa8d272ad",
   "metadata": {},
   "outputs": [],
   "source": []
  },
  {
   "cell_type": "code",
   "execution_count": null,
   "id": "0f261ad0-88c8-4a51-a9c9-24c25d3838b2",
   "metadata": {},
   "outputs": [],
   "source": []
  },
  {
   "cell_type": "code",
   "execution_count": null,
   "id": "0b98e619-af96-44dc-9b26-d9677c81676e",
   "metadata": {},
   "outputs": [],
   "source": []
  },
  {
   "cell_type": "code",
   "execution_count": null,
   "id": "059c9178-8e6c-4728-ac31-57f6a154f406",
   "metadata": {},
   "outputs": [],
   "source": []
  },
  {
   "cell_type": "code",
   "execution_count": null,
   "id": "015eb711-fd06-4e9e-b745-da16ca20e522",
   "metadata": {},
   "outputs": [],
   "source": []
  },
  {
   "cell_type": "code",
   "execution_count": null,
   "id": "c9d1823e-a34e-46fd-9173-ec4dbaf54c77",
   "metadata": {},
   "outputs": [],
   "source": []
  },
  {
   "cell_type": "code",
   "execution_count": null,
   "id": "e318e7f8-9ca0-4666-8a11-98aece9edbad",
   "metadata": {},
   "outputs": [],
   "source": []
  },
  {
   "cell_type": "code",
   "execution_count": null,
   "id": "e6e2b920-d7e3-4895-86cb-dd530e1b63b9",
   "metadata": {},
   "outputs": [],
   "source": []
  },
  {
   "cell_type": "markdown",
   "id": "dfaf18a5-759e-4250-b68f-e6761df6f430",
   "metadata": {},
   "source": [
    "# Appendix"
   ]
  },
  {
   "cell_type": "code",
   "execution_count": null,
   "id": "56d30a56-129c-43ac-8686-906b745d75e0",
   "metadata": {},
   "outputs": [],
   "source": []
  },
  {
   "cell_type": "markdown",
   "id": "03b39b22-cfcf-488c-b6fe-88e8aba4a13a",
   "metadata": {},
   "source": [
    "# MySQL Commands"
   ]
  },
  {
   "cell_type": "markdown",
   "id": "266cb10b-f903-4660-a2d1-aa5848028b45",
   "metadata": {},
   "source": [
    "## showing databases"
   ]
  },
  {
   "cell_type": "markdown",
   "id": "9fbff949-659a-4aea-8b92-5221b81d2fc0",
   "metadata": {},
   "source": [
    "`show databases`"
   ]
  },
  {
   "cell_type": "code",
   "execution_count": null,
   "id": "cfd46513-c704-495c-95b1-44cb26ec5025",
   "metadata": {},
   "outputs": [],
   "source": []
  },
  {
   "cell_type": "markdown",
   "id": "a5bfa971-cb0a-4217-9658-dbdd4419fe54",
   "metadata": {
    "jp-MarkdownHeadingCollapsed": true
   },
   "source": [
    "You might see something like this:"
   ]
  },
  {
   "cell_type": "markdown",
   "id": "49b897f9-d879-4e84-bfa1-2a038f8d79a6",
   "metadata": {},
   "source": [
    "show databases; <br/>\n",
    "+--------------------+<br/>\n",
    "| Database           |<br/>\n",
    "+--------------------+<br/>\n",
    "| information_schema |<br/>\n",
    "| mysql              |<br/>\n",
    "| performance_schema |<br/>\n",
    "| sys                |<br/>\n",
    "| teaching_db        |<br/>\n",
    "| wordpress_db       |<br/>\n",
    "+--------------------+<br/>\n",
    "6 rows in set (0.01 sec)<br/>"
   ]
  },
  {
   "cell_type": "markdown",
   "id": "f4ce6903-1741-4daa-a6b7-fbffbcdf07f0",
   "metadata": {},
   "source": [
    "# Select or get into a specific database"
   ]
  },
  {
   "cell_type": "markdown",
   "id": "3c80f098-12f9-464d-8efe-40661f3a6f7b",
   "metadata": {},
   "source": [
    "`use some_database_name`"
   ]
  },
  {
   "cell_type": "markdown",
   "id": "5f8685ed-b1ab-4d25-9595-7951ae686341",
   "metadata": {},
   "source": [
    "Let's say you want to use the teaching_db database. To start using that, in MySQL, you would type something like the following:"
   ]
  },
  {
   "cell_type": "markdown",
   "id": "a9aa5213-05c6-4e93-8c1d-0b4d78bab54f",
   "metadata": {},
   "source": [
    "`use teaching_db`"
   ]
  },
  {
   "cell_type": "markdown",
   "id": "e0873d31-8d11-4321-89eb-b84616e95a23",
   "metadata": {},
   "source": [
    "You might see something like this:"
   ]
  },
  {
   "cell_type": "markdown",
   "id": "9c7eb47d-a704-48b1-a0d1-ff8c1b08abb5",
   "metadata": {},
   "source": [
    "Reading table information for completion of table and column names<br/>\n",
    "You can turn off this feature to get a quicker startup with -A<br/>\n",
    "<br/>\n",
    "Database changed"
   ]
  },
  {
   "cell_type": "code",
   "execution_count": null,
   "id": "93f016b1-60a7-40a5-b1b7-824631f41146",
   "metadata": {},
   "outputs": [],
   "source": []
  },
  {
   "cell_type": "markdown",
   "id": "8364fd18-2a8b-4059-ab63-3588cf4fbaca",
   "metadata": {},
   "source": [
    "# Showing tables in a database"
   ]
  },
  {
   "cell_type": "markdown",
   "id": "0089f330-9c6b-411b-a34a-0a820f8e1345",
   "metadata": {},
   "source": [
    "To show all the tables in a database, once a database has been selected, you can use a similar command like the following:"
   ]
  },
  {
   "cell_type": "markdown",
   "id": "181cdd0b-6eb3-4d44-8dca-2d9616955313",
   "metadata": {},
   "source": [
    "`show tables;`"
   ]
  },
  {
   "cell_type": "markdown",
   "id": "6c743190-e8b2-486b-9a36-c24ca19de86d",
   "metadata": {},
   "source": [
    "You might see something like:"
   ]
  },
  {
   "cell_type": "markdown",
   "id": "4a269bba-2671-4127-96ea-f7e55592970c",
   "metadata": {},
   "source": [
    "show tables;<br/>\n",
    "+-----------------------+<br/>\n",
    "| Tables_in_teaching_db |<br/>\n",
    "+-----------------------+<br/>\n",
    "| salary                |<br/>\n",
    "| star_data             |<br/>\n",
    "+-----------------------+<br/>\n",
    "2 rows in set (0.01 sec)\n",
    "\n"
   ]
  },
  {
   "cell_type": "code",
   "execution_count": null,
   "id": "22d7fd5d-cd40-4661-8bdf-740d562c0ece",
   "metadata": {},
   "outputs": [],
   "source": []
  },
  {
   "cell_type": "markdown",
   "id": "721ef6aa-fcb1-441d-80db-c6ab625f72a7",
   "metadata": {},
   "source": [
    "# Note on capitalization of keywords in SQL"
   ]
  },
  {
   "cell_type": "markdown",
   "id": "4f7075af-fcd9-45e4-9d5b-772bcb8691ad",
   "metadata": {},
   "source": [
    "Technically, keywords such as `SELECT`, `ORDER BY`, `GROUP BY`, `FROM`, and other SQL keywords actually don't need to be capitalized, and the system usually won't care if you do. But, it is good practice because:\n",
    "* It can make it easier to quickly see SQL keywords"
   ]
  },
  {
   "cell_type": "code",
   "execution_count": null,
   "id": "6b7aedab-5507-45d5-a7a6-bb9383b817d3",
   "metadata": {},
   "outputs": [],
   "source": []
  },
  {
   "cell_type": "code",
   "execution_count": null,
   "id": "4e855621-be2f-4090-83f1-7ff12608b86a",
   "metadata": {},
   "outputs": [],
   "source": []
  }
 ],
 "metadata": {
  "kernelspec": {
   "display_name": "Python (.venv - useful-pandas-code)",
   "language": "python",
   "name": "useful-pandas-code"
  },
  "language_info": {
   "codemirror_mode": {
    "name": "ipython",
    "version": 3
   },
   "file_extension": ".py",
   "mimetype": "text/x-python",
   "name": "python",
   "nbconvert_exporter": "python",
   "pygments_lexer": "ipython3",
   "version": "3.10.12"
  }
 },
 "nbformat": 4,
 "nbformat_minor": 5
}
